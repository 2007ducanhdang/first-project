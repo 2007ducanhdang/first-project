{
 "cells": [
  {
   "cell_type": "code",
   "execution_count": 2,
   "id": "88c63a12-08d8-4336-97a3-ee2081221a86",
   "metadata": {},
   "outputs": [
    {
     "name": "stdin",
     "output_type": "stream",
     "text": [
      " 4\n"
     ]
    },
    {
     "name": "stdout",
     "output_type": "stream",
     "text": [
      "8\n"
     ]
    }
   ],
   "source": [
    "#bai1#\n",
    "a=int(input())\n",
    "print(2*a)"
   ]
  },
  {
   "cell_type": "code",
   "execution_count": 17,
   "id": "901684a3-d2e4-4551-9e6c-c9cf0d0ad1fe",
   "metadata": {},
   "outputs": [
    {
     "name": "stdin",
     "output_type": "stream",
     "text": [
      " 7 13\n"
     ]
    },
    {
     "name": "stdout",
     "output_type": "stream",
     "text": [
      "52.53\n"
     ]
    }
   ],
   "source": [
    "#bai2#\n",
    "a,b=map(int,input().split())\n",
    "S=(a/2)**2*3.14\n",
    "print(f'{(a*b-S):.2f}')"
   ]
  },
  {
   "cell_type": "code",
   "execution_count": 1,
   "id": "f2aa9dbb-0668-4e24-b7fb-130534c0b397",
   "metadata": {},
   "outputs": [
    {
     "name": "stdin",
     "output_type": "stream",
     "text": [
      " %\n"
     ]
    },
    {
     "name": "stdout",
     "output_type": "stream",
     "text": [
      "E\n"
     ]
    }
   ],
   "source": [
    "#bai3#\n",
    "c=str(input())\n",
    "C=ord(c)\n",
    "if C>90:\n",
    "    print(chr(C-32))\n",
    "else: \n",
    "    print(chr(C+32))"
   ]
  },
  {
   "cell_type": "code",
   "execution_count": 65,
   "id": "d36673df-1283-458c-9988-e79f9748bf69",
   "metadata": {},
   "outputs": [
    {
     "name": "stdin",
     "output_type": "stream",
     "text": [
      " 2\n"
     ]
    },
    {
     "name": "stdout",
     "output_type": "stream",
     "text": [
      "2 khong la ki tu alphabet\n"
     ]
    }
   ],
   "source": [
    "#bai4#\n",
    "a=input()\n",
    "b=ord(a)\n",
    "if 65<=b<=122:\n",
    "    print(f'{a} la ki tu alphabet')\n",
    "else:\n",
    "    print(f'{a} khong la ki tu alphabet')"
   ]
  },
  {
   "cell_type": "code",
   "execution_count": 68,
   "id": "0aefc376-5476-4e15-bc2f-58c854770cc9",
   "metadata": {},
   "outputs": [
    {
     "name": "stdin",
     "output_type": "stream",
     "text": [
      " A\n"
     ]
    },
    {
     "name": "stdout",
     "output_type": "stream",
     "text": [
      "a\n"
     ]
    }
   ],
   "source": [
    "#bai5#\n",
    "a=str(input())\n",
    "if a==\"A\":\n",
    "    print(\"a\")\n",
    "else:\n",
    "    print(chr(ord(a)+31))"
   ]
  },
  {
   "cell_type": "code",
   "execution_count": 72,
   "id": "5c2b36a7-f9cf-44cd-9bfb-086fb5f04196",
   "metadata": {},
   "outputs": [
    {
     "name": "stdin",
     "output_type": "stream",
     "text": [
      " 3 3 3\n"
     ]
    },
    {
     "name": "stdout",
     "output_type": "stream",
     "text": [
      "3.9\n"
     ]
    }
   ],
   "source": [
    "#bai6#\n",
    "a,b,c=map(int,input().split())\n",
    "if a+b>c and b+c>a and a+c>b:\n",
    "    p=(a+b+c)/2\n",
    "    print(f'{((p-a)*(p-b)*(p-c)*p)**0.5:.1f}')\n",
    "else:\n",
    "    print(\"khong phai 3 canh cua tam giac\")\n",
    "    "
   ]
  },
  {
   "cell_type": "code",
   "execution_count": 74,
   "id": "a43238cb-9559-43cc-a9e4-c0725df5ff54",
   "metadata": {},
   "outputs": [
    {
     "name": "stdin",
     "output_type": "stream",
     "text": [
      " jksdhfalhdkajfgakdjsgak\n"
     ]
    },
    {
     "name": "stdout",
     "output_type": "stream",
     "text": [
      "h h\n"
     ]
    }
   ],
   "source": [
    "#bai7#\n",
    "a=str(input())\n",
    "print(a[4],a[8])"
   ]
  },
  {
   "cell_type": "code",
   "execution_count": 1,
   "id": "577f180f-1d8c-413d-ab18-528b1859e616",
   "metadata": {},
   "outputs": [
    {
     "name": "stdin",
     "output_type": "stream",
     "text": [
      " khiet\n",
      " 2000 2586\n"
     ]
    },
    {
     "name": "stdout",
     "output_type": "stream",
     "text": [
      "Ho va ten:khiet\n",
      "Tien phai tra la:1855505\n"
     ]
    }
   ],
   "source": [
    "#bai8#\n",
    "chu_ho=input()\n",
    "thang_truoc,thang_nay=map(int,input().split())\n",
    "so_dien=thang_nay-thang_truoc\n",
    "if so_dien>400:\n",
    "    truoc_thue=1074500+(so_dien-400)*3460\n",
    "elif so_dien>300:\n",
    "    truoc_thue=739500+(so_dien-300)*3350\n",
    "elif so_dien>200:\n",
    "    truoc_thue=439700+(so_dien-200)*2998\n",
    "elif so_dien>100:\n",
    "    truoc_thue=201700+(so_dien-100)*2380\n",
    "elif so_dien>50:\n",
    "    truoc_thue=99200+(so_dien-50)*2050\n",
    "else:\n",
    "    truoc_thue=so_dien*1984\n",
    "print(f'Ho va ten:{chu_ho}',f'Tien phai tra la:{truoc_thue*1.08:.0f}',sep='\\n')"
   ]
  },
  {
   "cell_type": "code",
   "execution_count": null,
   "id": "8ddf5c87-c8d8-4c11-b5ee-fb58ac2d1b02",
   "metadata": {},
   "outputs": [],
   "source": []
  }
 ],
 "metadata": {
  "kernelspec": {
   "display_name": "Python 3 (ipykernel)",
   "language": "python",
   "name": "python3"
  },
  "language_info": {
   "codemirror_mode": {
    "name": "ipython",
    "version": 3
   },
   "file_extension": ".py",
   "mimetype": "text/x-python",
   "name": "python",
   "nbconvert_exporter": "python",
   "pygments_lexer": "ipython3",
   "version": "3.13.5"
  }
 },
 "nbformat": 4,
 "nbformat_minor": 5
}
