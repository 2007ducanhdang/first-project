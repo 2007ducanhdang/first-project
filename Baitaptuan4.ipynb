{
 "cells": [
  {
   "cell_type": "code",
   "execution_count": 1,
   "id": "c71016d8-e66c-469e-9db2-22681292b4f2",
   "metadata": {},
   "outputs": [
    {
     "name": "stdout",
     "output_type": "stream",
     "text": [
      "2500\n"
     ]
    }
   ],
   "source": [
    "#W4A1\n",
    "s=0\n",
    "for i in range(1,101,2):\n",
    "    s+=i\n",
    "print(s)"
   ]
  },
  {
   "cell_type": "code",
   "execution_count": 23,
   "id": "979a883d-d108-4c55-aa72-f6639cf32d52",
   "metadata": {},
   "outputs": [
    {
     "name": "stdin",
     "output_type": "stream",
     "text": [
      " 4\n"
     ]
    },
    {
     "name": "stdout",
     "output_type": "stream",
     "text": [
      "dung la so nguyen duong\n"
     ]
    }
   ],
   "source": [
    "#W4A2\n",
    "import sys\n",
    "a=input()\n",
    "try:\n",
    "    a=float(a)\n",
    "    while True:\n",
    "        if a<0:\n",
    "            a=float(input(\"nhap lai\"))\n",
    "        else:\n",
    "            if a!=int(a):\n",
    "                print(\"ko so nguyen duong\")\n",
    "                a=float(input(\"nhap lai\"))\n",
    "            else:\n",
    "                print(\"dung la so nguyen duong\")\n",
    "                break\n",
    "    \n",
    "except ValueError:\n",
    "    print(\"nhap lai\")\n",
    "    sys.exit\n",
    "\n",
    "    \n",
    "    "
   ]
  },
  {
   "cell_type": "code",
   "execution_count": 31,
   "id": "c3d864e1-36cc-4507-adab-dcee8dd1de19",
   "metadata": {},
   "outputs": [
    {
     "name": "stdin",
     "output_type": "stream",
     "text": [
      " 5\n"
     ]
    },
    {
     "name": "stdout",
     "output_type": "stream",
     "text": [
      "120\n"
     ]
    }
   ],
   "source": [
    "#W4A3\n",
    "n = int(input())\n",
    "ans = 1\n",
    "for i in range(2,n+1):\n",
    "    ans *= i\n",
    "print(ans)\n"
   ]
  },
  {
   "cell_type": "code",
   "execution_count": 27,
   "id": "52b6393f-46bf-4ccd-af2b-15ee4b91ef97",
   "metadata": {},
   "outputs": [
    {
     "name": "stdin",
     "output_type": "stream",
     "text": [
      " 0\n"
     ]
    },
    {
     "name": "stdout",
     "output_type": "stream",
     "text": [
      "1\n"
     ]
    }
   ],
   "source": [
    "#W4A4\n",
    "n = 0\n",
    "try:\n",
    "    n = int(input())\n",
    "    n = abs(n)\n",
    "    count = 0\n",
    "    if n==0:\n",
    "        count = 1\n",
    "    \n",
    "    for _ in range(10000):\n",
    "        if n > 0:\n",
    "            count += 1\n",
    "            n //= 10\n",
    "        else:\n",
    "            break\n",
    "    print(count)\n",
    "except ValueError:\n",
    "    print(\"Ban nhap sai du lieu\")\n",
    "        \n",
    "    \n",
    "    "
   ]
  },
  {
   "cell_type": "code",
   "execution_count": 30,
   "id": "17900c4e-2766-4949-9238-4c1691cea89b",
   "metadata": {},
   "outputs": [
    {
     "name": "stdin",
     "output_type": "stream",
     "text": [
      " 7 \n",
      " 4 \n",
      " 3\n",
      " 5\n",
      " 2\n",
      " 42\n"
     ]
    },
    {
     "name": "stdout",
     "output_type": "stream",
     "text": [
      "I've found the meaning of life\n"
     ]
    }
   ],
   "source": [
    "#W4A5\n",
    "try:\n",
    "    n = int(input())\n",
    "    flag = False\n",
    "    for _ in range(n):\n",
    "        a = int(input())\n",
    "        if a==42:\n",
    "            print(\"I've found the meaning of life\")\n",
    "            flag = True\n",
    "            break\n",
    "    if flag == False:\n",
    "        print(\"It's a joke\")\n",
    "except ValueError:\n",
    "    print(\"Du lieu khong hop le\")\n",
    "    "
   ]
  },
  {
   "cell_type": "code",
   "execution_count": 17,
   "id": "0c1591f9-ea53-4245-a237-698271afa5b7",
   "metadata": {},
   "outputs": [
    {
     "name": "stdin",
     "output_type": "stream",
     "text": [
      " 1 6\n"
     ]
    },
    {
     "name": "stdout",
     "output_type": "stream",
     "text": [
      "10\n"
     ]
    }
   ],
   "source": [
    "#W4A6\n",
    "def prime(c):\n",
    "    if c<2:\n",
    "        return False\n",
    "    elif c==2:\n",
    "        return True\n",
    "    else:\n",
    "        for i in range(2,int(c**0.5)+1):\n",
    "            if c%i==0:\n",
    "                return False\n",
    "    return True\n",
    "a,b=map(int,input().split())\n",
    "ans=0\n",
    "for i in range(a,b+1):\n",
    "    if prime(i):\n",
    "        ans+=i\n",
    "print(ans)"
   ]
  },
  {
   "cell_type": "code",
   "execution_count": 28,
   "id": "d871c08a-e72d-4fe2-9189-74bb5bdd7633",
   "metadata": {},
   "outputs": [
    {
     "name": "stdin",
     "output_type": "stream",
     "text": [
      " 18\n"
     ]
    },
    {
     "name": "stdout",
     "output_type": "stream",
     "text": [
      "3\n"
     ]
    }
   ],
   "source": [
    "#W4A7\n",
    "n=int(input())\n",
    "def prime(c):\n",
    "    if c<2:\n",
    "        return False\n",
    "    elif c==2:\n",
    "        return True\n",
    "    else:\n",
    "        for i in range(2,int(c**0.5)+1):\n",
    "            if c%i==0:\n",
    "                return False\n",
    "    return True\n",
    "if prime(n):\n",
    "    print(n)\n",
    "else:\n",
    "    for _ in range(100000):\n",
    "        if n%2==0:\n",
    "            n//=2\n",
    "    for _ in range(100000):\n",
    "        for k in range(3,int(n**0.5)+1):\n",
    "            if n%k==0:\n",
    "                n//=k\n",
    "    print(n)"
   ]
  },
  {
   "cell_type": "code",
   "execution_count": 39,
   "id": "b0b0739a-06a4-4dae-ac4e-e83e224e258f",
   "metadata": {},
   "outputs": [
    {
     "name": "stdin",
     "output_type": "stream",
     "text": [
      " 89\n"
     ]
    },
    {
     "name": "stdout",
     "output_type": "stream",
     "text": [
      "8813200023188\n"
     ]
    }
   ],
   "source": [
    "#W4A8\n",
    "n=input()\n",
    "N=int(n)\n",
    "def palindrome(a):\n",
    "    if a==a[::-1]:\n",
    "        return True\n",
    "    return False\n",
    "for _ in range(100000):\n",
    "    if palindrome(n):\n",
    "        print(n)\n",
    "    else:\n",
    "        N+=int(n[::-1])\n",
    "        if palindrome(str(N)):\n",
    "            print(N)\n",
    "            break\n",
    "        else:\n",
    "            n=str(N)\n",
    "        "
   ]
  },
  {
   "cell_type": "code",
   "execution_count": 44,
   "id": "883f25c7-7ae6-42bf-ac59-15f0a3002900",
   "metadata": {},
   "outputs": [
    {
     "name": "stdin",
     "output_type": "stream",
     "text": [
      " 10\n"
     ]
    },
    {
     "name": "stdout",
     "output_type": "stream",
     "text": [
      "4\n"
     ]
    }
   ],
   "source": [
    "#W4A9\n",
    "def square(n):\n",
    "    if n**0.5==int(n**0.5):\n",
    "        return True\n",
    "    return False\n",
    "n=int(input())\n",
    "ans=0\n",
    "for i in range(n+1):\n",
    "    ans+=square(i)\n",
    "print(ans)\n"
   ]
  },
  {
   "cell_type": "code",
   "execution_count": 46,
   "id": "752f26fd-23a5-4ed3-8543-73f85ecc180f",
   "metadata": {},
   "outputs": [
    {
     "name": "stdin",
     "output_type": "stream",
     "text": [
      " 2364\n"
     ]
    },
    {
     "name": "stdout",
     "output_type": "stream",
     "text": [
      "8\n"
     ]
    }
   ],
   "source": [
    "#W4A11\n",
    "n=int(input())\n",
    "ans=0\n",
    "for i in range(2,n+1,2):\n",
    "    if n%i==0:\n",
    "        ans+=1\n",
    "print(ans)"
   ]
  },
  {
   "cell_type": "code",
   "execution_count": 50,
   "id": "de1b95b9-67ea-40c9-8ad0-cf52bd7b8099",
   "metadata": {},
   "outputs": [
    {
     "name": "stdin",
     "output_type": "stream",
     "text": [
      " 234 73\n"
     ]
    },
    {
     "name": "stdout",
     "output_type": "stream",
     "text": [
      "389\n"
     ]
    }
   ],
   "source": [
    "#W4A12\n",
    "x,n=map(int,input().split())\n",
    "for _ in range(1,n+1):\n",
    "    x+=(0.007*x)\n",
    "print(int(x))"
   ]
  },
  {
   "cell_type": "code",
   "execution_count": 6,
   "id": "241c26b1-0251-42ba-84db-217c46b91324",
   "metadata": {},
   "outputs": [
    {
     "name": "stdin",
     "output_type": "stream",
     "text": [
      " 5020 5564\n"
     ]
    },
    {
     "name": "stdout",
     "output_type": "stream",
     "text": [
      "day la cap so than thiet\n"
     ]
    }
   ],
   "source": [
    "#W4A13\n",
    "a,b=map(int,input().split())\n",
    "flag1=1\n",
    "flag2=1\n",
    "for i in range(2,(a//2)+1):\n",
    "    if a%i==0:\n",
    "        flag1+=i\n",
    "for k in range(2,(b//2)+1):\n",
    "    if b%k==0:\n",
    "        flag2+=k\n",
    "if flag1==b and flag2==a:\n",
    "    print(\"day la cap so than thiet\")\n",
    "else:\n",
    "    print(\"day ko la cap so than thiet\")"
   ]
  },
  {
   "cell_type": "code",
   "execution_count": null,
   "id": "32cf2498-43b1-4c14-8d1e-30b64c6aa649",
   "metadata": {},
   "outputs": [],
   "source": []
  },
  {
   "cell_type": "code",
   "execution_count": 18,
   "id": "61c1dd77-d4f5-4544-a19b-0e093645ba31",
   "metadata": {},
   "outputs": [
    {
     "name": "stdin",
     "output_type": "stream",
     "text": [
      " 35 536\n"
     ]
    },
    {
     "name": "stdout",
     "output_type": "stream",
     "text": [
      "1\n"
     ]
    }
   ],
   "source": [
    "#W4A14\n",
    "a,b=map(int,input().split())\n",
    "if a==b==0:\n",
    "    print(\"khong ton tai\")\n",
    "else:\n",
    "    for _ in range(10000000000):\n",
    "        if a==0 and b!=0:\n",
    "            print(b)\n",
    "            break\n",
    "        elif a!=0 and b==0:\n",
    "            print(a)\n",
    "            break\n",
    "        else:\n",
    "            if a>b:\n",
    "                a%=b\n",
    "            else:\n",
    "                b%=a"
   ]
  },
  {
   "cell_type": "code",
   "execution_count": 30,
   "id": "6b5eb6f7-423a-4910-bdf2-4348a425bed1",
   "metadata": {},
   "outputs": [
    {
     "name": "stdin",
     "output_type": "stream",
     "text": [
      " 5 14\n"
     ]
    },
    {
     "name": "stdout",
     "output_type": "stream",
     "text": [
      "so ga 3 so cho 2\n"
     ]
    }
   ],
   "source": [
    "#W4A15\n",
    "a,b=map(int,input().split())\n",
    "if b%2!=0:\n",
    "    print(\"khong ton tai\")\n",
    "else:\n",
    "    ga=2*(a-b/4)\n",
    "    if ga==int(ga) and ga>0:\n",
    "        cho=a-int(ga)\n",
    "        print(\"so ga\",int(ga),\"so cho\",cho)\n",
    "    else:\n",
    "        print(\"khong ton tai\")\n"
   ]
  },
  {
   "cell_type": "code",
   "execution_count": null,
   "id": "df1f3146-be52-45fe-ba1f-3b8e8da6a1d0",
   "metadata": {},
   "outputs": [],
   "source": []
  }
 ],
 "metadata": {
  "kernelspec": {
   "display_name": "Python 3 (ipykernel)",
   "language": "python",
   "name": "python3"
  },
  "language_info": {
   "codemirror_mode": {
    "name": "ipython",
    "version": 3
   },
   "file_extension": ".py",
   "mimetype": "text/x-python",
   "name": "python",
   "nbconvert_exporter": "python",
   "pygments_lexer": "ipython3",
   "version": "3.13.5"
  }
 },
 "nbformat": 4,
 "nbformat_minor": 5
}
