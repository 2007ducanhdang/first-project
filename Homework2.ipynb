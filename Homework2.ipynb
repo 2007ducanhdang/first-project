{
 "cells": [
  {
   "cell_type": "code",
   "execution_count": 1,
   "id": "1833eb27-b8cf-4580-a9a5-6f3274cdc18e",
   "metadata": {},
   "outputs": [
    {
     "name": "stdin",
     "output_type": "stream",
     "text": [
      " 4 5\n"
     ]
    },
    {
     "name": "stdout",
     "output_type": "stream",
     "text": [
      "20 9\n"
     ]
    }
   ],
   "source": [
    "#Bai1#\n",
    "a,b=map(int,input().split())\n",
    "print(a*b,a+b)"
   ]
  },
  {
   "cell_type": "code",
   "execution_count": null,
   "id": "71cd1f8f-a02d-4391-ae78-4bc49428dd3c",
   "metadata": {},
   "outputs": [],
   "source": [
    "#Bai2#\n",
    "a=int(input())\n",
    "print(a*3.14,a**2*3.14)"
   ]
  },
  {
   "cell_type": "code",
   "execution_count": 18,
   "id": "af8e397d-27cb-420a-a0e5-c976eb0847e5",
   "metadata": {},
   "outputs": [
    {
     "name": "stdin",
     "output_type": "stream",
     "text": [
      " 4 4 5\n"
     ]
    },
    {
     "name": "stdout",
     "output_type": "stream",
     "text": [
      "Tam giac can\n",
      "13 7.81\n"
     ]
    }
   ],
   "source": [
    "#Bai3#\n",
    "def kiemtra(a,b,c):\n",
    "    if a>=b+c:\n",
    "        return False\n",
    "    elif b>=a+c:\n",
    "        return False\n",
    "    elif c>=a+b:\n",
    "        return False\n",
    "    else:\n",
    "        return True\n",
    "def dientich(a,b,c):\n",
    "    p=(a+b+c)/2\n",
    "    S=(p*(p-a)*(p-b)*(p-c))**0.5\n",
    "    return S\n",
    "a,b,c=map(int,input().split())\n",
    "if kiemtra(a,b,c):\n",
    "    if a==b:\n",
    "        if a==c:\n",
    "            print(\"Tam giac deu\")\n",
    "        else:\n",
    "            if a**2+b**2==c**2 or a**2+c**2==b**2 or b**2+c**2==a**2:\n",
    "                print(\"Tam giac vuong can\")\n",
    "            else:\n",
    "                print(\"Tam giac can\")\n",
    "    elif b==c:\n",
    "        if a**2+b**2==c**2 or a**2+c**2==b**2 or b**2+c**2==a**2:\n",
    "            print(\"Tam giac vuong can\")\n",
    "        else:\n",
    "            print(\"Tam giac can\")\n",
    "    else:\n",
    "        if a**2+b**2==c**2 or a**2+c**2==b**2 or b**2+c**2==a**2:\n",
    "            print(\"Tam giac vuong\")\n",
    "        else:\n",
    "            print(\"Tam giac thuong\")\n",
    "    print(a+b+c,f'{dientich(a,b,c):.2f}')\n",
    "else:\n",
    "    print(\"khong phai tam giac\")\n",
    "            \n",
    "        \n",
    "    \n",
    "        \n",
    "    "
   ]
  },
  {
   "cell_type": "code",
   "execution_count": 4,
   "id": "32e9d60a-782f-46f5-8e2f-39891527dee3",
   "metadata": {},
   "outputs": [
    {
     "name": "stdin",
     "output_type": "stream",
     "text": [
      " 0 0\n"
     ]
    },
    {
     "name": "stdout",
     "output_type": "stream",
     "text": [
      "vo so nghiem\n"
     ]
    }
   ],
   "source": [
    "#Bai4#\n",
    "a,b=map(int,input().split())\n",
    "if a==0:\n",
    "    if b!=0:\n",
    "        print(\"vo nghiem\")\n",
    "    else:\n",
    "        print(\"vo so nghiem\")\n",
    "else:\n",
    "    print(-b/a)"
   ]
  },
  {
   "cell_type": "code",
   "execution_count": 21,
   "id": "66037c54-ddd1-4583-bc8d-d89d2b9cc18e",
   "metadata": {},
   "outputs": [
    {
     "name": "stdin",
     "output_type": "stream",
     "text": [
      " 2 -5 3\n"
     ]
    },
    {
     "name": "stdout",
     "output_type": "stream",
     "text": [
      "1.50 1.00\n"
     ]
    }
   ],
   "source": [
    "#Bai5#\n",
    "a,b,c=map(int,input().split())\n",
    "delta=b**2-4*a*c\n",
    "if delta<0:\n",
    "    print(\"vo nghiem\")\n",
    "elif delta==0:\n",
    "    print(-b/(2*a))\n",
    "else:\n",
    "    print(f'{(-b+(delta**0.5))/(2*a):.2f}',f'{(-b-(delta**0.5))/(2*a):.2f}')"
   ]
  },
  {
   "cell_type": "code",
   "execution_count": 12,
   "id": "58636f59-6e3f-4f06-8934-25d5aaae1a35",
   "metadata": {},
   "outputs": [
    {
     "name": "stdin",
     "output_type": "stream",
     "text": [
      " 1 2  5 6\n"
     ]
    },
    {
     "name": "stdout",
     "output_type": "stream",
     "text": [
      "6\n"
     ]
    }
   ],
   "source": [
    "#Bai6#\n",
    "a,b,c,d=map(int,input().split())\n",
    "A=[a,b,c,d]\n",
    "print(max(A))"
   ]
  },
  {
   "cell_type": "code",
   "execution_count": 13,
   "id": "3338bcb9-66fc-43ff-bad3-2d7118eed677",
   "metadata": {},
   "outputs": [
    {
     "name": "stdin",
     "output_type": "stream",
     "text": [
      " 6 3 7 8\n"
     ]
    },
    {
     "name": "stdout",
     "output_type": "stream",
     "text": [
      "3\n"
     ]
    }
   ],
   "source": [
    "#Bai7#\n",
    "a,b,c,d=map(int,input().split())\n",
    "A=[a,b,c,d]\n",
    "print(min(A))"
   ]
  },
  {
   "cell_type": "code",
   "execution_count": 12,
   "id": "03d49c13-db46-4706-bbb3-d3de40bf107c",
   "metadata": {},
   "outputs": [
    {
     "name": "stdin",
     "output_type": "stream",
     "text": [
      " 3 5 6 3 2 1\n"
     ]
    },
    {
     "name": "stdout",
     "output_type": "stream",
     "text": [
      "x= -0.78 y= 1.67\n"
     ]
    }
   ],
   "source": [
    "#Bai8#\n",
    "a,b,m,c,d,n=map(int,input().split())\n",
    "D=a*d-b*c\n",
    "Dx=d*m-b*n\n",
    "Dy=a*n-c*m\n",
    "if D==0:\n",
    "    if Dx==Dy==0:\n",
    "        print(\"vo so nghiem\")\n",
    "    else:\n",
    "        print(\"vo nghiem\")\n",
    "else:\n",
    "    print(\"x=\",f'{Dx/D:.2f}',\"y=\",f'{Dy/D:.2f}')"
   ]
  },
  {
   "cell_type": "code",
   "execution_count": 14,
   "id": "e985ff4d-4720-492b-95b9-f17fb195112a",
   "metadata": {},
   "outputs": [
    {
     "name": "stdin",
     "output_type": "stream",
     "text": [
      " 9875\n"
     ]
    },
    {
     "name": "stdout",
     "output_type": "stream",
     "text": [
      "2 gio 44 phut 35 giay\n"
     ]
    }
   ],
   "source": [
    "#Bai9#\n",
    "x=int(input())\n",
    "a=x//3600\n",
    "b=x%3600\n",
    "c=b//60\n",
    "d=b%60\n",
    "print(a,\"gio\",c,\"phut\",d,\"giay\")"
   ]
  },
  {
   "cell_type": "code",
   "execution_count": 17,
   "id": "5e5bd8bf-8565-42fb-a473-e459c24d19b3",
   "metadata": {},
   "outputs": [
    {
     "name": "stdin",
     "output_type": "stream",
     "text": [
      " 0 0 7\n",
      " 7 0\n"
     ]
    },
    {
     "name": "stdout",
     "output_type": "stream",
     "text": [
      "thuong duong tron\n"
     ]
    }
   ],
   "source": [
    "#Bai10#\n",
    "Ox,Oy,R=map(int,input().split())\n",
    "x,y=map(int,input().split())\n",
    "if (x-Ox)**2+(y-Oy)**2==R**2:\n",
    "    print(\"thuong duong tron\")\n",
    "else:\n",
    "    print(\"khong thuoc duong tron\")"
   ]
  },
  {
   "cell_type": "code",
   "execution_count": 3,
   "id": "68d922cd-f7bc-46be-a7f6-1150e3f8ae75",
   "metadata": {},
   "outputs": [
    {
     "name": "stdin",
     "output_type": "stream",
     "text": [
      " 234 522\n"
     ]
    },
    {
     "ename": "OverflowError",
     "evalue": "(34, 'Result too large')",
     "output_type": "error",
     "traceback": [
      "\u001b[31m---------------------------------------------------------------------------\u001b[39m",
      "\u001b[31mOverflowError\u001b[39m                             Traceback (most recent call last)",
      "\u001b[36mCell\u001b[39m\u001b[36m \u001b[39m\u001b[32mIn[3]\u001b[39m\u001b[32m, line 2\u001b[39m\n\u001b[32m      1\u001b[39m x,y=\u001b[38;5;28mmap\u001b[39m(\u001b[38;5;28mfloat\u001b[39m,\u001b[38;5;28minput\u001b[39m().split())\n\u001b[32m----> \u001b[39m\u001b[32m2\u001b[39m \u001b[38;5;28mprint\u001b[39m(\u001b[43mx\u001b[49m\u001b[43m*\u001b[49m\u001b[43m*\u001b[49m\u001b[43my\u001b[49m)\n",
      "\u001b[31mOverflowError\u001b[39m: (34, 'Result too large')"
     ]
    }
   ],
   "source": [
    "x,y=map(float,input().split())\n",
    "print(x**y)"
   ]
  },
  {
   "cell_type": "code",
   "execution_count": null,
   "id": "6a9f39e0-b348-4a3a-a241-d0886e7fd972",
   "metadata": {},
   "outputs": [],
   "source": []
  }
 ],
 "metadata": {
  "kernelspec": {
   "display_name": "Python 3 (ipykernel)",
   "language": "python",
   "name": "python3"
  },
  "language_info": {
   "codemirror_mode": {
    "name": "ipython",
    "version": 3
   },
   "file_extension": ".py",
   "mimetype": "text/x-python",
   "name": "python",
   "nbconvert_exporter": "python",
   "pygments_lexer": "ipython3",
   "version": "3.13.5"
  }
 },
 "nbformat": 4,
 "nbformat_minor": 5
}
