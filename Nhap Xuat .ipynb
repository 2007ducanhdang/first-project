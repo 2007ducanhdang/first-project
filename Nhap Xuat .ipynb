{
 "cells": [
  {
   "cell_type": "code",
   "execution_count": 36,
   "id": "3b8d1446-7175-4b3d-a526-12b768841199",
   "metadata": {},
   "outputs": [
    {
     "name": "stdout",
     "output_type": "stream",
     "text": [
      "hello world\n"
     ]
    }
   ],
   "source": [
    "#W2A1#\n",
    "print(\"hello world\")"
   ]
  },
  {
   "cell_type": "code",
   "execution_count": 6,
   "id": "05a95a35-9e68-4604-955c-bc42d90d0fbf",
   "metadata": {},
   "outputs": [
    {
     "name": "stdin",
     "output_type": "stream",
     "text": [
      " a\n"
     ]
    },
    {
     "name": "stdout",
     "output_type": "stream",
     "text": [
      "xin chao a. rat vui duoc gap ban\n"
     ]
    }
   ],
   "source": [
    "#W2A2#\n",
    "'''chuong trinh dau tien'''\n",
    "a=str(input())\n",
    "print(\"xin chao\",a,sep=\" \",end=\". \")\n",
    "print(\"rat vui duoc gap ban\")"
   ]
  },
  {
   "cell_type": "code",
   "execution_count": 38,
   "id": "cfeac112-19fc-4533-bd2a-7b6d3fe15d28",
   "metadata": {},
   "outputs": [
    {
     "name": "stdin",
     "output_type": "stream",
     "text": [
      " o\n"
     ]
    },
    {
     "ename": "ValueError",
     "evalue": "invalid literal for int() with base 10: 'o'",
     "output_type": "error",
     "traceback": [
      "\u001b[31m---------------------------------------------------------------------------\u001b[39m",
      "\u001b[31mValueError\u001b[39m                                Traceback (most recent call last)",
      "\u001b[36mCell\u001b[39m\u001b[36m \u001b[39m\u001b[32mIn[38]\u001b[39m\u001b[32m, line 2\u001b[39m\n\u001b[32m      1\u001b[39m \u001b[38;5;66;03m#W2A3#\u001b[39;00m\n\u001b[32m----> \u001b[39m\u001b[32m2\u001b[39m a,b=\u001b[38;5;28mmap\u001b[39m(\u001b[38;5;28mint\u001b[39m,\u001b[38;5;28minput\u001b[39m().split())\n\u001b[32m      3\u001b[39m \u001b[38;5;28mprint\u001b[39m(\u001b[33mf\u001b[39m\u001b[33m'\u001b[39m\u001b[38;5;132;01m{\u001b[39;00ma\u001b[38;5;132;01m}\u001b[39;00m\u001b[33m+\u001b[39m\u001b[38;5;132;01m{\u001b[39;00mb\u001b[38;5;132;01m}\u001b[39;00m\u001b[33m=\u001b[39m\u001b[38;5;132;01m{\u001b[39;00ma+b\u001b[38;5;132;01m}\u001b[39;00m\u001b[33m'\u001b[39m)\n\u001b[32m      4\u001b[39m \u001b[38;5;28mprint\u001b[39m(\u001b[33mf\u001b[39m\u001b[33m'\u001b[39m\u001b[38;5;132;01m{\u001b[39;00ma\u001b[38;5;132;01m}\u001b[39;00m\u001b[33m-\u001b[39m\u001b[38;5;132;01m{\u001b[39;00mb\u001b[38;5;132;01m}\u001b[39;00m\u001b[33m=\u001b[39m\u001b[38;5;132;01m{\u001b[39;00ma-b\u001b[38;5;132;01m}\u001b[39;00m\u001b[33m'\u001b[39m)\n",
      "\u001b[31mValueError\u001b[39m: invalid literal for int() with base 10: 'o'"
     ]
    }
   ],
   "source": [
    "#W2A3#\n",
    "a,b=map(int,input().split())\n",
    "print(f'{a}+{b}={a+b}')\n",
    "print(f'{a}-{b}={a-b}')\n",
    "print(f'{a}*{b}={a*b}')\n",
    "print(f'{a}/{b}={a/b:.2f}')"
   ]
  },
  {
   "cell_type": "code",
   "execution_count": null,
   "id": "11ca5384-0cd7-46d8-8339-7cc8eb254f21",
   "metadata": {},
   "outputs": [],
   "source": [
    "#W2A4#\n",
    "line=input()\n",
    "a1,b1,c1,a2,b2,c2,a3,b3,c3 = map(float,line.split())\n",
    "TB=((a1+b1+c1)+(a2+b2+c2)*2+a3*3)/10\n",
    "print(f'{TB:.1f}')"
   ]
  },
  {
   "cell_type": "code",
   "execution_count": null,
   "id": "1dad903c-fde0-4a76-bea4-de1d682f134b",
   "metadata": {},
   "outputs": [],
   "source": [
    "#W2A5#\n",
    "a,b=map(int,input().split())\n",
    "print(a**b)"
   ]
  },
  {
   "cell_type": "code",
   "execution_count": null,
   "id": "f879afa6-4994-4ebc-824e-d9f6fa56fdc9",
   "metadata": {},
   "outputs": [],
   "source": [
    "#W2A6#\n",
    "print(chr(ord(input())-32))"
   ]
  },
  {
   "cell_type": "code",
   "execution_count": null,
   "id": "46b70987-54a4-41eb-8d8c-dc2fb8e9f741",
   "metadata": {},
   "outputs": [],
   "source": [
    "#W2A8#\n",
    "a=float(input())\n",
    "print(f'{9/5*a+32:.2f}')"
   ]
  },
  {
   "cell_type": "code",
   "execution_count": null,
   "id": "1524c3a1-a213-49cd-96db-97affa571030",
   "metadata": {},
   "outputs": [],
   "source": [
    "#W2A9#\n"
   ]
  },
  {
   "cell_type": "code",
   "execution_count": null,
   "id": "f39f7b80-20a6-4701-9c79-2327bef31140",
   "metadata": {},
   "outputs": [],
   "source": [
    "#W2A16#\n",
    "print('''Spring\n",
    "Summer\n",
    "Autumn\n",
    "Winter''')"
   ]
  },
  {
   "cell_type": "code",
   "execution_count": null,
   "id": "456fe0d2-c8bf-46ff-8758-9f84c8bba3f8",
   "metadata": {},
   "outputs": [],
   "source": [
    "#W2A17#\n",
    "print(\"*\",\"**\",\"***\",sep=\"\\n\")"
   ]
  },
  {
   "cell_type": "code",
   "execution_count": null,
   "id": "1473b044-4de6-4956-af8c-1eb8fb78b491",
   "metadata": {},
   "outputs": [],
   "source": [
    "#W2A18#\n",
    "print(''' \n",
    "       ### # #  ### ###\n",
    "        #  #  #  #   #\n",
    "        #  #  #  #   #\n",
    "        #  # #   #   #\n",
    "''')"
   ]
  },
  {
   "cell_type": "code",
   "execution_count": null,
   "id": "a359ec2f-30d0-4823-b46c-5e309a1749f9",
   "metadata": {},
   "outputs": [],
   "source": []
  }
 ],
 "metadata": {
  "kernelspec": {
   "display_name": "Python 3 (ipykernel)",
   "language": "python",
   "name": "python3"
  },
  "language_info": {
   "codemirror_mode": {
    "name": "ipython",
    "version": 3
   },
   "file_extension": ".py",
   "mimetype": "text/x-python",
   "name": "python",
   "nbconvert_exporter": "python",
   "pygments_lexer": "ipython3",
   "version": "3.13.5"
  }
 },
 "nbformat": 4,
 "nbformat_minor": 5
}
